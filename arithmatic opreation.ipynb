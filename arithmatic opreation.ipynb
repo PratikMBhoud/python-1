{
  "nbformat": 4,
  "nbformat_minor": 0,
  "metadata": {
    "colab": {
      "provenance": [],
      "toc_visible": true,
      "authorship_tag": "ABX9TyNM4K07lUAr6wwmTDh72cbD",
      "include_colab_link": true
    },
    "kernelspec": {
      "name": "python3",
      "display_name": "Python 3"
    },
    "language_info": {
      "name": "python"
    }
  },
  "cells": [
    {
      "cell_type": "markdown",
      "metadata": {
        "id": "view-in-github",
        "colab_type": "text"
      },
      "source": [
        "<a href=\"https://colab.research.google.com/github/PratikMBhoud/python-1/blob/main/arithmatic%20opreation.ipynb\" target=\"_parent\"><img src=\"https://colab.research.google.com/assets/colab-badge.svg\" alt=\"Open In Colab\"/></a>"
      ]
    },
    {
      "cell_type": "code",
      "execution_count": null,
      "metadata": {
        "colab": {
          "base_uri": "https://localhost:8080/"
        },
        "id": "B6T30ZS7OR0r",
        "outputId": "1f7faa2f-411d-4353-804b-35fa4d17c172"
      },
      "outputs": [
        {
          "output_type": "stream",
          "name": "stdout",
          "text": [
            "hello\n"
          ]
        }
      ],
      "source": [
        "print('hello')\n"
      ]
    },
    {
      "cell_type": "code",
      "source": [
        "print('pratik')\n",
        "\n",
        "a=9\n",
        "b=9.8\n",
        "c=a+b\n",
        "print(c)\n"
      ],
      "metadata": {
        "colab": {
          "base_uri": "https://localhost:8080/"
        },
        "id": "05x87cMdRtX5",
        "outputId": "62027af1-f1a8-4a6f-b40c-481bc6eb4c42"
      },
      "execution_count": null,
      "outputs": [
        {
          "output_type": "stream",
          "name": "stdout",
          "text": [
            "pratik\n",
            "18.8\n"
          ]
        }
      ]
    },
    {
      "cell_type": "markdown",
      "source": [
        "# New Section"
      ],
      "metadata": {
        "id": "pD-KLPDnW4hm"
      }
    },
    {
      "cell_type": "code",
      "source": [
        "A=9.9 \n",
        "B=2 \n",
        "C=(A-B)\n",
        "print(C)\n",
        "c=10\n",
        "d=1\n",
        "e=(d-c)\n",
        "print(e)\n",
        "print(type (e))"
      ],
      "metadata": {
        "colab": {
          "base_uri": "https://localhost:8080/"
        },
        "id": "d2t_288LRyRx",
        "outputId": "160a11da-6d5c-48c5-c6dd-7c85145a6538"
      },
      "execution_count": null,
      "outputs": [
        {
          "output_type": "stream",
          "name": "stdout",
          "text": [
            "7.9\n",
            "-9\n",
            "<class 'int'>\n"
          ]
        }
      ]
    },
    {
      "cell_type": "markdown",
      "source": [
        "# New Section"
      ],
      "metadata": {
        "id": "tva-9FazW21m"
      }
    },
    {
      "cell_type": "code",
      "source": [
        "def pal(num):\n",
        "     x1 = num[::-1]\n",
        "     if x1 == x:\n",
        "       print('palindrome')\n",
        "    else:\n",
        "       print('not a palindrome')\n",
        " \n",
        "print(pal('edureka'))"
      ],
      "metadata": {
        "id": "z9m7G18YXfzC",
        "outputId": "006dcafc-74be-4751-d277-8e9f78cd9566",
        "colab": {
          "base_uri": "https://localhost:8080/",
          "height": 130
        }
      },
      "execution_count": null,
      "outputs": [
        {
          "output_type": "error",
          "ename": "IndentationError",
          "evalue": "ignored",
          "traceback": [
            "\u001b[0;36m  File \u001b[0;32m\"<tokenize>\"\u001b[0;36m, line \u001b[0;32m5\u001b[0m\n\u001b[0;31m    else:\u001b[0m\n\u001b[0m    ^\u001b[0m\n\u001b[0;31mIndentationError\u001b[0m\u001b[0;31m:\u001b[0m unindent does not match any outer indentation level\n"
          ]
        }
      ]
    }
  ]
}